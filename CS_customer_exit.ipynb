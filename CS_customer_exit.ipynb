{
  "nbformat": 4,
  "nbformat_minor": 0,
  "metadata": {
    "colab": {
      "name": "CS-customer-exit.ipynb",
      "provenance": [],
      "collapsed_sections": [],
      "include_colab_link": true
    },
    "kernelspec": {
      "name": "python3",
      "display_name": "Python 3"
    }
  },
  "cells": [
    {
      "cell_type": "markdown",
      "metadata": {
        "id": "view-in-github",
        "colab_type": "text"
      },
      "source": [
        "<a href=\"https://colab.research.google.com/github/chandrakantsharma007/Customer-Bank-Exit-prediction-using-ANN/blob/master/CS_customer_exit.ipynb\" target=\"_parent\"><img src=\"https://colab.research.google.com/assets/colab-badge.svg\" alt=\"Open In Colab\"/></a>"
      ]
    },
    {
      "cell_type": "markdown",
      "metadata": {
        "id": "pNyJUc-0R1Mf",
        "colab_type": "text"
      },
      "source": [
        ""
        ""
      ]
    },
    {
      "cell_type": "markdown",
      "metadata": {
        "id": "wwPBEZg3nvLL",
        "colab_type": "text"
      },
      "source": [
        ""
      ]
    },
    {
      "cell_type": "markdown",
      "metadata": {
        "id": "QTwKbiU0uHt0",
        "colab_type": "text"
      },
      "source": [
        "#Mounting the drive to colab"
      ]
    },
    {
      "cell_type": "code",
      "metadata": {
        "id": "pqK42PuFAg9a",
        "colab_type": "code",
        "outputId": "83925add-f0aa-468e-febe-b248dc8c8e74",
        "colab": {
          "base_uri": "https://localhost:8080/",
          "height": 54
        }
      },
      "source": [
        "from google.colab import drive  \n",
        "drive.mount('/content/drive')"
      ],
      "execution_count": 0,
      "outputs": [
        {
          "output_type": "stream",
          "text": [
            "Drive already mounted at /content/drive; to attempt to forcibly remount, call drive.mount(\"/content/drive\", force_remount=True).\n"
          ],
          "name": "stdout"
        }
      ]
    },
    {
      "cell_type": "markdown",
      "metadata": {
        "id": "t7h70VUouguJ",
        "colab_type": "text"
      },
      "source": [
        "#Changing the directory\n"
      ]
    },
    {
      "cell_type": "markdown",
      "metadata": {
        "id": "tF-oD25ECZLE",
        "colab_type": "text"
      },
      "source": [
        ""
      ]
    },
    {
      "cell_type": "code",
      "metadata": {
        "id": "rUaUlAvvCVdt",
        "colab_type": "code",
        "outputId": "87f94d21-5528-493d-cfed-b6c4d6436a83",
        "colab": {
          "base_uri": "https://localhost:8080/",
          "height": 34
        }
      },
      "source": [
        "cd 'drive/My Drive'\n"
      ],
      "execution_count": 0,
      "outputs": [
        {
          "output_type": "stream",
          "text": [
            "/content/drive/My Drive\n"
          ],
          "name": "stdout"
        }
      ]
    },
    {
      "cell_type": "markdown",
      "metadata": {
        "id": "vakstcLdusPN",
        "colab_type": "text"
      },
      "source": [
        "#Importing the modules"
      ]
    },
    {
      "cell_type": "code",
      "metadata": {
        "id": "CAL0AAH3eqCS",
        "colab_type": "code",
        "outputId": "120093aa-1e24-48d7-99aa-a8d3e873b3d8",
        "colab": {
          "base_uri": "https://localhost:8080/",
          "height": 34
        }
      },
      "source": [
        "%tensorflow_version 2.x\n",
        "import tensorflow as tf\n",
        "from tensorflow import keras\n",
        "from tensorflow.keras import Sequential\n",
        "from tensorflow.keras.layers import Flatten, Dense"
      ],
      "execution_count": 0,
      "outputs": [
        {
          "output_type": "stream",
          "text": [
            "TensorFlow 2.x selected.\n"
          ],
          "name": "stdout"
        }
      ]
    },
    {
      "cell_type": "markdown",
      "metadata": {
        "id": "DuKM3L3OCvB0",
        "colab_type": "text"
      },
      "source": [
        "##NumPy is a general-purpose array-processing package. It provides a high-performance multidimensional array object, and tools for working with these arrays.\n",
        "##Like when i am using scaler.fit_transform(x_test) then the output will be recieved in a variable whose type is numpy array which is supported by numpy module.\n",
        "\n",
        "##Pandas is used for data analysis, sir like here in one line of code (pd.read_csv()), i am able to get the content of my file ,if i didn't use this then i have to apply file handling to read the file.\n",
        "\n",
        "##Scikit-learn have various classification, regression and clustering algorithms including support vector machines, random forests, gradient boosting, k-means etc.\n",
        "##Here, i have used it to split my dataset."
      ]
    },
    {
      "cell_type": "code",
      "metadata": {
        "id": "vxnJhyca8n83",
        "colab_type": "code",
        "colab": {}
      },
      "source": [
        "import numpy as np \n",
        "import pandas as pd\n",
        "from sklearn.model_selection import train_test_split"
      ],
      "execution_count": 0,
      "outputs": []
    },
    {
      "cell_type": "markdown",
      "metadata": {
        "id": "-x_epkwSu4vi",
        "colab_type": "text"
      },
      "source": [
        "#Reading data from customer.csv\n"
      ]
    },
    {
      "cell_type": "code",
      "metadata": {
        "id": "fOb5fKHg8732",
        "colab_type": "code",
        "colab": {}
      },
      "source": [
        "dataset = pd.read_csv('data2/customer.csv')  "
      ],
      "execution_count": 0,
      "outputs": []
    },
    {
      "cell_type": "markdown",
      "metadata": {
        "id": "npgYIQClvEV-",
        "colab_type": "text"
      },
      "source": [
        "#Printing the content of the file\n"
      ]
    },
    {
      "cell_type": "code",
      "metadata": {
        "id": "Vxhmg9r69CFP",
        "colab_type": "code",
        "outputId": "2e3ba7cd-a625-42ae-8dde-f1cd2627ba0e",
        "colab": {
          "base_uri": "https://localhost:8080/",
          "height": 439
        }
      },
      "source": [
        "dataset "
      ],
      "execution_count": 0,
      "outputs": [
        {
          "output_type": "execute_result",
          "data": {
            "text/html": [
              "<div>\n",
              "<style scoped>\n",
              "    .dataframe tbody tr th:only-of-type {\n",
              "        vertical-align: middle;\n",
              "    }\n",
              "\n",
              "    .dataframe tbody tr th {\n",
              "        vertical-align: top;\n",
              "    }\n",
              "\n",
              "    .dataframe thead th {\n",
              "        text-align: right;\n",
              "    }\n",
              "</style>\n",
              "<table border=\"1\" class=\"dataframe\">\n",
              "  <thead>\n",
              "    <tr style=\"text-align: right;\">\n",
              "      <th></th>\n",
              "      <th>RowNumber</th>\n",
              "      <th>CustomerId</th>\n",
              "      <th>Surname</th>\n",
              "      <th>CreditScore</th>\n",
              "      <th>Geography</th>\n",
              "      <th>Gender</th>\n",
              "      <th>Age</th>\n",
              "      <th>Tenure</th>\n",
              "      <th>Balance</th>\n",
              "      <th>NumOfProducts</th>\n",
              "      <th>HasCrCard</th>\n",
              "      <th>IsActiveMember</th>\n",
              "      <th>EstimatedSalary</th>\n",
              "      <th>Exited</th>\n",
              "    </tr>\n",
              "  </thead>\n",
              "  <tbody>\n",
              "    <tr>\n",
              "      <th>0</th>\n",
              "      <td>1</td>\n",
              "      <td>15634602</td>\n",
              "      <td>Hargrave</td>\n",
              "      <td>619</td>\n",
              "      <td>France</td>\n",
              "      <td>Female</td>\n",
              "      <td>42</td>\n",
              "      <td>2</td>\n",
              "      <td>0.00</td>\n",
              "      <td>1</td>\n",
              "      <td>1</td>\n",
              "      <td>1</td>\n",
              "      <td>101348.88</td>\n",
              "      <td>1</td>\n",
              "    </tr>\n",
              "    <tr>\n",
              "      <th>1</th>\n",
              "      <td>2</td>\n",
              "      <td>15647311</td>\n",
              "      <td>Hill</td>\n",
              "      <td>608</td>\n",
              "      <td>Spain</td>\n",
              "      <td>Female</td>\n",
              "      <td>41</td>\n",
              "      <td>1</td>\n",
              "      <td>83807.86</td>\n",
              "      <td>1</td>\n",
              "      <td>0</td>\n",
              "      <td>1</td>\n",
              "      <td>112542.58</td>\n",
              "      <td>0</td>\n",
              "    </tr>\n",
              "    <tr>\n",
              "      <th>2</th>\n",
              "      <td>3</td>\n",
              "      <td>15619304</td>\n",
              "      <td>Onio</td>\n",
              "      <td>502</td>\n",
              "      <td>France</td>\n",
              "      <td>Female</td>\n",
              "      <td>42</td>\n",
              "      <td>8</td>\n",
              "      <td>159660.80</td>\n",
              "      <td>3</td>\n",
              "      <td>1</td>\n",
              "      <td>0</td>\n",
              "      <td>113931.57</td>\n",
              "      <td>1</td>\n",
              "    </tr>\n",
              "    <tr>\n",
              "      <th>3</th>\n",
              "      <td>4</td>\n",
              "      <td>15701354</td>\n",
              "      <td>Boni</td>\n",
              "      <td>699</td>\n",
              "      <td>France</td>\n",
              "      <td>Female</td>\n",
              "      <td>39</td>\n",
              "      <td>1</td>\n",
              "      <td>0.00</td>\n",
              "      <td>2</td>\n",
              "      <td>0</td>\n",
              "      <td>0</td>\n",
              "      <td>93826.63</td>\n",
              "      <td>0</td>\n",
              "    </tr>\n",
              "    <tr>\n",
              "      <th>4</th>\n",
              "      <td>5</td>\n",
              "      <td>15737888</td>\n",
              "      <td>Mitchell</td>\n",
              "      <td>850</td>\n",
              "      <td>Spain</td>\n",
              "      <td>Female</td>\n",
              "      <td>43</td>\n",
              "      <td>2</td>\n",
              "      <td>125510.82</td>\n",
              "      <td>1</td>\n",
              "      <td>1</td>\n",
              "      <td>1</td>\n",
              "      <td>79084.10</td>\n",
              "      <td>0</td>\n",
              "    </tr>\n",
              "    <tr>\n",
              "      <th>...</th>\n",
              "      <td>...</td>\n",
              "      <td>...</td>\n",
              "      <td>...</td>\n",
              "      <td>...</td>\n",
              "      <td>...</td>\n",
              "      <td>...</td>\n",
              "      <td>...</td>\n",
              "      <td>...</td>\n",
              "      <td>...</td>\n",
              "      <td>...</td>\n",
              "      <td>...</td>\n",
              "      <td>...</td>\n",
              "      <td>...</td>\n",
              "      <td>...</td>\n",
              "    </tr>\n",
              "    <tr>\n",
              "      <th>9995</th>\n",
              "      <td>9996</td>\n",
              "      <td>15606229</td>\n",
              "      <td>Obijiaku</td>\n",
              "      <td>771</td>\n",
              "      <td>France</td>\n",
              "      <td>Male</td>\n",
              "      <td>39</td>\n",
              "      <td>5</td>\n",
              "      <td>0.00</td>\n",
              "      <td>2</td>\n",
              "      <td>1</td>\n",
              "      <td>0</td>\n",
              "      <td>96270.64</td>\n",
              "      <td>0</td>\n",
              "    </tr>\n",
              "    <tr>\n",
              "      <th>9996</th>\n",
              "      <td>9997</td>\n",
              "      <td>15569892</td>\n",
              "      <td>Johnstone</td>\n",
              "      <td>516</td>\n",
              "      <td>France</td>\n",
              "      <td>Male</td>\n",
              "      <td>35</td>\n",
              "      <td>10</td>\n",
              "      <td>57369.61</td>\n",
              "      <td>1</td>\n",
              "      <td>1</td>\n",
              "      <td>1</td>\n",
              "      <td>101699.77</td>\n",
              "      <td>0</td>\n",
              "    </tr>\n",
              "    <tr>\n",
              "      <th>9997</th>\n",
              "      <td>9998</td>\n",
              "      <td>15584532</td>\n",
              "      <td>Liu</td>\n",
              "      <td>709</td>\n",
              "      <td>France</td>\n",
              "      <td>Female</td>\n",
              "      <td>36</td>\n",
              "      <td>7</td>\n",
              "      <td>0.00</td>\n",
              "      <td>1</td>\n",
              "      <td>0</td>\n",
              "      <td>1</td>\n",
              "      <td>42085.58</td>\n",
              "      <td>1</td>\n",
              "    </tr>\n",
              "    <tr>\n",
              "      <th>9998</th>\n",
              "      <td>9999</td>\n",
              "      <td>15682355</td>\n",
              "      <td>Sabbatini</td>\n",
              "      <td>772</td>\n",
              "      <td>Germany</td>\n",
              "      <td>Male</td>\n",
              "      <td>42</td>\n",
              "      <td>3</td>\n",
              "      <td>75075.31</td>\n",
              "      <td>2</td>\n",
              "      <td>1</td>\n",
              "      <td>0</td>\n",
              "      <td>92888.52</td>\n",
              "      <td>1</td>\n",
              "    </tr>\n",
              "    <tr>\n",
              "      <th>9999</th>\n",
              "      <td>10000</td>\n",
              "      <td>15628319</td>\n",
              "      <td>Walker</td>\n",
              "      <td>792</td>\n",
              "      <td>France</td>\n",
              "      <td>Female</td>\n",
              "      <td>28</td>\n",
              "      <td>4</td>\n",
              "      <td>130142.79</td>\n",
              "      <td>1</td>\n",
              "      <td>1</td>\n",
              "      <td>0</td>\n",
              "      <td>38190.78</td>\n",
              "      <td>0</td>\n",
              "    </tr>\n",
              "  </tbody>\n",
              "</table>\n",
              "<p>10000 rows × 14 columns</p>\n",
              "</div>"
            ],
            "text/plain": [
              "      RowNumber  CustomerId    Surname  ...  IsActiveMember EstimatedSalary Exited\n",
              "0             1    15634602   Hargrave  ...               1       101348.88      1\n",
              "1             2    15647311       Hill  ...               1       112542.58      0\n",
              "2             3    15619304       Onio  ...               0       113931.57      1\n",
              "3             4    15701354       Boni  ...               0        93826.63      0\n",
              "4             5    15737888   Mitchell  ...               1        79084.10      0\n",
              "...         ...         ...        ...  ...             ...             ...    ...\n",
              "9995       9996    15606229   Obijiaku  ...               0        96270.64      0\n",
              "9996       9997    15569892  Johnstone  ...               1       101699.77      0\n",
              "9997       9998    15584532        Liu  ...               1        42085.58      1\n",
              "9998       9999    15682355  Sabbatini  ...               0        92888.52      1\n",
              "9999      10000    15628319     Walker  ...               0        38190.78      0\n",
              "\n",
              "[10000 rows x 14 columns]"
            ]
          },
          "metadata": {
            "tags": []
          },
          "execution_count": 7
        }
      ]
    },
    {
      "cell_type": "markdown",
      "metadata": {
        "id": "dXH_foWbvbZz",
        "colab_type": "text"
      },
      "source": [
        "#features that are not important was removed .\n",
        "#Exited is the dependent variable so I took it in another variable y.\n",
        "##customer id is not important because they are just numbers assigned to each customer.\n",
        "##rownumber is not important because they are just representing the rows.\n",
        "##Surname is not important because a persons surname cannot helps us to determine that whether the person will leave the bank or not."
      ]
    },
    {
      "cell_type": "code",
      "metadata": {
        "id": "zvlqUjD2AfHO",
        "colab_type": "code",
        "colab": {}
      },
      "source": [
        "X = dataset.drop(labels=['CustomerId', 'Surname', 'RowNumber', 'Exited'], axis = 1) \n",
        "y = dataset['Exited'] "
      ],
      "execution_count": 0,
      "outputs": []
    },
    {
      "cell_type": "markdown",
      "metadata": {
        "id": "0_EZmy3OwBwr",
        "colab_type": "text"
      },
      "source": [
        "#X.head basically returns top n rows of the dataset,by default it returns 5 rows\n",
        "##dataset after removing Customerid,surname,rownumber and exited."
      ]
    },
    {
      "cell_type": "code",
      "metadata": {
        "id": "xor7x75fDp1d",
        "colab_type": "code",
        "outputId": "06106c76-cdb8-4bc1-b22a-cd09dd1560c8",
        "colab": {
          "base_uri": "https://localhost:8080/",
          "height": 359
        }
      },
      "source": [
        "X.head(10) "
      ],
      "execution_count": 0,
      "outputs": [
        {
          "output_type": "execute_result",
          "data": {
            "text/html": [
              "<div>\n",
              "<style scoped>\n",
              "    .dataframe tbody tr th:only-of-type {\n",
              "        vertical-align: middle;\n",
              "    }\n",
              "\n",
              "    .dataframe tbody tr th {\n",
              "        vertical-align: top;\n",
              "    }\n",
              "\n",
              "    .dataframe thead th {\n",
              "        text-align: right;\n",
              "    }\n",
              "</style>\n",
              "<table border=\"1\" class=\"dataframe\">\n",
              "  <thead>\n",
              "    <tr style=\"text-align: right;\">\n",
              "      <th></th>\n",
              "      <th>CreditScore</th>\n",
              "      <th>Geography</th>\n",
              "      <th>Gender</th>\n",
              "      <th>Age</th>\n",
              "      <th>Tenure</th>\n",
              "      <th>Balance</th>\n",
              "      <th>NumOfProducts</th>\n",
              "      <th>HasCrCard</th>\n",
              "      <th>IsActiveMember</th>\n",
              "      <th>EstimatedSalary</th>\n",
              "    </tr>\n",
              "  </thead>\n",
              "  <tbody>\n",
              "    <tr>\n",
              "      <th>0</th>\n",
              "      <td>619</td>\n",
              "      <td>France</td>\n",
              "      <td>Female</td>\n",
              "      <td>42</td>\n",
              "      <td>2</td>\n",
              "      <td>0.00</td>\n",
              "      <td>1</td>\n",
              "      <td>1</td>\n",
              "      <td>1</td>\n",
              "      <td>101348.88</td>\n",
              "    </tr>\n",
              "    <tr>\n",
              "      <th>1</th>\n",
              "      <td>608</td>\n",
              "      <td>Spain</td>\n",
              "      <td>Female</td>\n",
              "      <td>41</td>\n",
              "      <td>1</td>\n",
              "      <td>83807.86</td>\n",
              "      <td>1</td>\n",
              "      <td>0</td>\n",
              "      <td>1</td>\n",
              "      <td>112542.58</td>\n",
              "    </tr>\n",
              "    <tr>\n",
              "      <th>2</th>\n",
              "      <td>502</td>\n",
              "      <td>France</td>\n",
              "      <td>Female</td>\n",
              "      <td>42</td>\n",
              "      <td>8</td>\n",
              "      <td>159660.80</td>\n",
              "      <td>3</td>\n",
              "      <td>1</td>\n",
              "      <td>0</td>\n",
              "      <td>113931.57</td>\n",
              "    </tr>\n",
              "    <tr>\n",
              "      <th>3</th>\n",
              "      <td>699</td>\n",
              "      <td>France</td>\n",
              "      <td>Female</td>\n",
              "      <td>39</td>\n",
              "      <td>1</td>\n",
              "      <td>0.00</td>\n",
              "      <td>2</td>\n",
              "      <td>0</td>\n",
              "      <td>0</td>\n",
              "      <td>93826.63</td>\n",
              "    </tr>\n",
              "    <tr>\n",
              "      <th>4</th>\n",
              "      <td>850</td>\n",
              "      <td>Spain</td>\n",
              "      <td>Female</td>\n",
              "      <td>43</td>\n",
              "      <td>2</td>\n",
              "      <td>125510.82</td>\n",
              "      <td>1</td>\n",
              "      <td>1</td>\n",
              "      <td>1</td>\n",
              "      <td>79084.10</td>\n",
              "    </tr>\n",
              "    <tr>\n",
              "      <th>5</th>\n",
              "      <td>645</td>\n",
              "      <td>Spain</td>\n",
              "      <td>Male</td>\n",
              "      <td>44</td>\n",
              "      <td>8</td>\n",
              "      <td>113755.78</td>\n",
              "      <td>2</td>\n",
              "      <td>1</td>\n",
              "      <td>0</td>\n",
              "      <td>149756.71</td>\n",
              "    </tr>\n",
              "    <tr>\n",
              "      <th>6</th>\n",
              "      <td>822</td>\n",
              "      <td>France</td>\n",
              "      <td>Male</td>\n",
              "      <td>50</td>\n",
              "      <td>7</td>\n",
              "      <td>0.00</td>\n",
              "      <td>2</td>\n",
              "      <td>1</td>\n",
              "      <td>1</td>\n",
              "      <td>10062.80</td>\n",
              "    </tr>\n",
              "    <tr>\n",
              "      <th>7</th>\n",
              "      <td>376</td>\n",
              "      <td>Germany</td>\n",
              "      <td>Female</td>\n",
              "      <td>29</td>\n",
              "      <td>4</td>\n",
              "      <td>115046.74</td>\n",
              "      <td>4</td>\n",
              "      <td>1</td>\n",
              "      <td>0</td>\n",
              "      <td>119346.88</td>\n",
              "    </tr>\n",
              "    <tr>\n",
              "      <th>8</th>\n",
              "      <td>501</td>\n",
              "      <td>France</td>\n",
              "      <td>Male</td>\n",
              "      <td>44</td>\n",
              "      <td>4</td>\n",
              "      <td>142051.07</td>\n",
              "      <td>2</td>\n",
              "      <td>0</td>\n",
              "      <td>1</td>\n",
              "      <td>74940.50</td>\n",
              "    </tr>\n",
              "    <tr>\n",
              "      <th>9</th>\n",
              "      <td>684</td>\n",
              "      <td>France</td>\n",
              "      <td>Male</td>\n",
              "      <td>27</td>\n",
              "      <td>2</td>\n",
              "      <td>134603.88</td>\n",
              "      <td>1</td>\n",
              "      <td>1</td>\n",
              "      <td>1</td>\n",
              "      <td>71725.73</td>\n",
              "    </tr>\n",
              "  </tbody>\n",
              "</table>\n",
              "</div>"
            ],
            "text/plain": [
              "   CreditScore Geography  Gender  ...  HasCrCard  IsActiveMember  EstimatedSalary\n",
              "0          619    France  Female  ...          1               1        101348.88\n",
              "1          608     Spain  Female  ...          0               1        112542.58\n",
              "2          502    France  Female  ...          1               0        113931.57\n",
              "3          699    France  Female  ...          0               0         93826.63\n",
              "4          850     Spain  Female  ...          1               1         79084.10\n",
              "5          645     Spain    Male  ...          1               0        149756.71\n",
              "6          822    France    Male  ...          1               1         10062.80\n",
              "7          376   Germany  Female  ...          1               0        119346.88\n",
              "8          501    France    Male  ...          0               1         74940.50\n",
              "9          684    France    Male  ...          1               1         71725.73\n",
              "\n",
              "[10 rows x 10 columns]"
            ]
          },
          "metadata": {
            "tags": []
          },
          "execution_count": 9
        }
      ]
    },
    {
      "cell_type": "code",
      "metadata": {
        "id": "NUztAJNRDwcN",
        "colab_type": "code",
        "outputId": "15c95f14-8e67-452e-e8c0-fb82a8a95eee",
        "colab": {
          "base_uri": "https://localhost:8080/",
          "height": 204
        }
      },
      "source": [
        "y.head(10)"
      ],
      "execution_count": 0,
      "outputs": [
        {
          "output_type": "execute_result",
          "data": {
            "text/plain": [
              "0    1\n",
              "1    0\n",
              "2    1\n",
              "3    0\n",
              "4    0\n",
              "5    1\n",
              "6    0\n",
              "7    1\n",
              "8    0\n",
              "9    0\n",
              "Name: Exited, dtype: int64"
            ]
          },
          "metadata": {
            "tags": []
          },
          "execution_count": 10
        }
      ]
    },
    {
      "cell_type": "code",
      "metadata": {
        "id": "kAfSTQUkFyjy",
        "colab_type": "code",
        "colab": {}
      },
      "source": [
        "from sklearn.preprocessing import LabelEncoder"
      ],
      "execution_count": 0,
      "outputs": []
    },
    {
      "cell_type": "markdown",
      "metadata": {
        "id": "fNBCbtz-x5wq",
        "colab_type": "text"
      },
      "source": [
        "#Here, i make the object for the label encoder,and then fitting the object on the column geography and gender ,because these are the categorical features which needs to get converted into some numerical values ,so that the computation can be done."
      ]
    },
    {
      "cell_type": "code",
      "metadata": {
        "id": "FKOHNiZmGlum",
        "colab_type": "code",
        "colab": {}
      },
      "source": [
        "label = LabelEncoder()\n",
        "X['Geography'] = label.fit_transform(X['Geography'])\n",
        "label1 = LabelEncoder()\n",
        "X['Gender'] = label1.fit_transform(X['Gender'])"
      ],
      "execution_count": 0,
      "outputs": []
    },
    {
      "cell_type": "code",
      "metadata": {
        "id": "EwaQGPglGsL1",
        "colab_type": "code",
        "outputId": "e7d815dc-6284-4a02-ba75-b973b0e573fa",
        "colab": {
          "base_uri": "https://localhost:8080/",
          "height": 204
        }
      },
      "source": [
        "X.head()"
      ],
      "execution_count": 0,
      "outputs": [
        {
          "output_type": "execute_result",
          "data": {
            "text/html": [
              "<div>\n",
              "<style scoped>\n",
              "    .dataframe tbody tr th:only-of-type {\n",
              "        vertical-align: middle;\n",
              "    }\n",
              "\n",
              "    .dataframe tbody tr th {\n",
              "        vertical-align: top;\n",
              "    }\n",
              "\n",
              "    .dataframe thead th {\n",
              "        text-align: right;\n",
              "    }\n",
              "</style>\n",
              "<table border=\"1\" class=\"dataframe\">\n",
              "  <thead>\n",
              "    <tr style=\"text-align: right;\">\n",
              "      <th></th>\n",
              "      <th>CreditScore</th>\n",
              "      <th>Geography</th>\n",
              "      <th>Gender</th>\n",
              "      <th>Age</th>\n",
              "      <th>Tenure</th>\n",
              "      <th>Balance</th>\n",
              "      <th>NumOfProducts</th>\n",
              "      <th>HasCrCard</th>\n",
              "      <th>IsActiveMember</th>\n",
              "      <th>EstimatedSalary</th>\n",
              "    </tr>\n",
              "  </thead>\n",
              "  <tbody>\n",
              "    <tr>\n",
              "      <th>0</th>\n",
              "      <td>619</td>\n",
              "      <td>0</td>\n",
              "      <td>0</td>\n",
              "      <td>42</td>\n",
              "      <td>2</td>\n",
              "      <td>0.00</td>\n",
              "      <td>1</td>\n",
              "      <td>1</td>\n",
              "      <td>1</td>\n",
              "      <td>101348.88</td>\n",
              "    </tr>\n",
              "    <tr>\n",
              "      <th>1</th>\n",
              "      <td>608</td>\n",
              "      <td>2</td>\n",
              "      <td>0</td>\n",
              "      <td>41</td>\n",
              "      <td>1</td>\n",
              "      <td>83807.86</td>\n",
              "      <td>1</td>\n",
              "      <td>0</td>\n",
              "      <td>1</td>\n",
              "      <td>112542.58</td>\n",
              "    </tr>\n",
              "    <tr>\n",
              "      <th>2</th>\n",
              "      <td>502</td>\n",
              "      <td>0</td>\n",
              "      <td>0</td>\n",
              "      <td>42</td>\n",
              "      <td>8</td>\n",
              "      <td>159660.80</td>\n",
              "      <td>3</td>\n",
              "      <td>1</td>\n",
              "      <td>0</td>\n",
              "      <td>113931.57</td>\n",
              "    </tr>\n",
              "    <tr>\n",
              "      <th>3</th>\n",
              "      <td>699</td>\n",
              "      <td>0</td>\n",
              "      <td>0</td>\n",
              "      <td>39</td>\n",
              "      <td>1</td>\n",
              "      <td>0.00</td>\n",
              "      <td>2</td>\n",
              "      <td>0</td>\n",
              "      <td>0</td>\n",
              "      <td>93826.63</td>\n",
              "    </tr>\n",
              "    <tr>\n",
              "      <th>4</th>\n",
              "      <td>850</td>\n",
              "      <td>2</td>\n",
              "      <td>0</td>\n",
              "      <td>43</td>\n",
              "      <td>2</td>\n",
              "      <td>125510.82</td>\n",
              "      <td>1</td>\n",
              "      <td>1</td>\n",
              "      <td>1</td>\n",
              "      <td>79084.10</td>\n",
              "    </tr>\n",
              "  </tbody>\n",
              "</table>\n",
              "</div>"
            ],
            "text/plain": [
              "   CreditScore  Geography  Gender  ...  HasCrCard  IsActiveMember  EstimatedSalary\n",
              "0          619          0       0  ...          1               1        101348.88\n",
              "1          608          2       0  ...          0               1        112542.58\n",
              "2          502          0       0  ...          1               0        113931.57\n",
              "3          699          0       0  ...          0               0         93826.63\n",
              "4          850          2       0  ...          1               1         79084.10\n",
              "\n",
              "[5 rows x 10 columns]"
            ]
          },
          "metadata": {
            "tags": []
          },
          "execution_count": 13
        }
      ]
    },
    {
      "cell_type": "markdown",
      "metadata": {
        "id": "vuhwEreZ0XDy",
        "colab_type": "text"
      },
      "source": [
        "#Here i am performing one hot encoding,by making dummy variables so that our categorical data get convert into some numericalvalues.\n",
        "##basically in one hot encoding we create dummy variables,so here for geography we have three countries so there will be three variables and value 1 is assign for the corresponding country.\n",
        "##but this will also increase the no. of features so to reduce the no features we can exclude one of the dummy variable ,because with the help of two we can get the same information"
      ]
    },
    {
      "cell_type": "code",
      "metadata": {
        "id": "tAzy8mih0SOA",
        "colab_type": "code",
        "outputId": "e8dc977c-36d5-4b33-a8fa-36606851872c",
        "colab": {
          "base_uri": "https://localhost:8080/",
          "height": 224
        }
      },
      "source": [
        "X = pd.get_dummies(X, drop_first=True, columns=['Geography'])\n",
        "X.head()"
      ],
      "execution_count": 0,
      "outputs": [
        {
          "output_type": "execute_result",
          "data": {
            "text/html": [
              "<div>\n",
              "<style scoped>\n",
              "    .dataframe tbody tr th:only-of-type {\n",
              "        vertical-align: middle;\n",
              "    }\n",
              "\n",
              "    .dataframe tbody tr th {\n",
              "        vertical-align: top;\n",
              "    }\n",
              "\n",
              "    .dataframe thead th {\n",
              "        text-align: right;\n",
              "    }\n",
              "</style>\n",
              "<table border=\"1\" class=\"dataframe\">\n",
              "  <thead>\n",
              "    <tr style=\"text-align: right;\">\n",
              "      <th></th>\n",
              "      <th>CreditScore</th>\n",
              "      <th>Gender</th>\n",
              "      <th>Age</th>\n",
              "      <th>Tenure</th>\n",
              "      <th>Balance</th>\n",
              "      <th>NumOfProducts</th>\n",
              "      <th>HasCrCard</th>\n",
              "      <th>IsActiveMember</th>\n",
              "      <th>EstimatedSalary</th>\n",
              "      <th>Geography_1</th>\n",
              "      <th>Geography_2</th>\n",
              "    </tr>\n",
              "  </thead>\n",
              "  <tbody>\n",
              "    <tr>\n",
              "      <th>0</th>\n",
              "      <td>619</td>\n",
              "      <td>0</td>\n",
              "      <td>42</td>\n",
              "      <td>2</td>\n",
              "      <td>0.00</td>\n",
              "      <td>1</td>\n",
              "      <td>1</td>\n",
              "      <td>1</td>\n",
              "      <td>101348.88</td>\n",
              "      <td>0</td>\n",
              "      <td>0</td>\n",
              "    </tr>\n",
              "    <tr>\n",
              "      <th>1</th>\n",
              "      <td>608</td>\n",
              "      <td>0</td>\n",
              "      <td>41</td>\n",
              "      <td>1</td>\n",
              "      <td>83807.86</td>\n",
              "      <td>1</td>\n",
              "      <td>0</td>\n",
              "      <td>1</td>\n",
              "      <td>112542.58</td>\n",
              "      <td>0</td>\n",
              "      <td>1</td>\n",
              "    </tr>\n",
              "    <tr>\n",
              "      <th>2</th>\n",
              "      <td>502</td>\n",
              "      <td>0</td>\n",
              "      <td>42</td>\n",
              "      <td>8</td>\n",
              "      <td>159660.80</td>\n",
              "      <td>3</td>\n",
              "      <td>1</td>\n",
              "      <td>0</td>\n",
              "      <td>113931.57</td>\n",
              "      <td>0</td>\n",
              "      <td>0</td>\n",
              "    </tr>\n",
              "    <tr>\n",
              "      <th>3</th>\n",
              "      <td>699</td>\n",
              "      <td>0</td>\n",
              "      <td>39</td>\n",
              "      <td>1</td>\n",
              "      <td>0.00</td>\n",
              "      <td>2</td>\n",
              "      <td>0</td>\n",
              "      <td>0</td>\n",
              "      <td>93826.63</td>\n",
              "      <td>0</td>\n",
              "      <td>0</td>\n",
              "    </tr>\n",
              "    <tr>\n",
              "      <th>4</th>\n",
              "      <td>850</td>\n",
              "      <td>0</td>\n",
              "      <td>43</td>\n",
              "      <td>2</td>\n",
              "      <td>125510.82</td>\n",
              "      <td>1</td>\n",
              "      <td>1</td>\n",
              "      <td>1</td>\n",
              "      <td>79084.10</td>\n",
              "      <td>0</td>\n",
              "      <td>1</td>\n",
              "    </tr>\n",
              "  </tbody>\n",
              "</table>\n",
              "</div>"
            ],
            "text/plain": [
              "   CreditScore  Gender  Age  ...  EstimatedSalary  Geography_1  Geography_2\n",
              "0          619       0   42  ...        101348.88            0            0\n",
              "1          608       0   41  ...        112542.58            0            1\n",
              "2          502       0   42  ...        113931.57            0            0\n",
              "3          699       0   39  ...         93826.63            0            0\n",
              "4          850       0   43  ...         79084.10            0            1\n",
              "\n",
              "[5 rows x 11 columns]"
            ]
          },
          "metadata": {
            "tags": []
          },
          "execution_count": 14
        }
      ]
    },
    {
      "cell_type": "code",
      "metadata": {
        "id": "zIIGWMqw1qC4",
        "colab_type": "code",
        "colab": {}
      },
      "source": [
        "from sklearn.preprocessing import StandardScaler\n"
      ],
      "execution_count": 0,
      "outputs": []
    },
    {
      "cell_type": "markdown",
      "metadata": {
        "id": "TnqX9tn-13Xl",
        "colab_type": "text"
      },
      "source": [
        "#Here i am splitting the dataset into training and test set with the help of train test split module.\n",
        "##And then the standarization of the data is done, so as to get the data for different features on a same scale.\n",
        "##In, sk learn splitting is done in this way.\n",
        "##The function basically returns splitted train and test subsets."
      ]
    },
    {
      "cell_type": "markdown",
      "metadata": {
        "id": "L0DrQY-9JoL3",
        "colab_type": "text"
      },
      "source": [
        "## The main idea of standardization is to make the mean = 0 and standard deviation = 1 of the features  of our dataset before applying machine learning techniques.\n",
        "##And this is done by using the equation z=x-u/s,where u is the mean for each column and s is standard deviation.\n",
        "##So when we apply fit method then for each column ,mean and standard devition is calculated.\n",
        "##And when we use tranform ,then the above equation is used by the standard scaler method and the computation is done on the calculated mean and standard deviation."
      ]
    },
    {
      "cell_type": "code",
      "metadata": {
        "id": "8EUVXuyFtAS-",
        "colab_type": "code",
        "outputId": "e4e8716f-a489-4c97-f851-f96c34dd37dd",
        "colab": {
          "base_uri": "https://localhost:8080/",
          "height": 289
        }
      },
      "source": [
        "scaler = StandardScaler()\n",
        "X_train = scaler.fit_transform(X_train)\n",
        "print('X_train')\n",
        "print(X_train.round(2))\n",
        "print('X_test')\n",
        "X_test = scaler.transform(X_test)\n",
        "X_test.round(2)\n"
      ],
      "execution_count": 0,
      "outputs": [
        {
          "output_type": "stream",
          "text": [
            "X_train\n",
            "[[-1.24 -1.1   0.78 ...  1.64 -0.58 -0.58]\n",
            " [ 0.76  0.91 -0.27 ... -1.56  1.73 -0.58]\n",
            " [-1.73 -1.1  -0.94 ...  1.1  -0.58 -0.58]\n",
            " ...\n",
            " [-0.51  0.91  0.88 ... -1.02  1.73 -0.58]\n",
            " [ 0.74 -1.1  -0.37 ... -1.48 -0.58 -0.58]\n",
            " [ 0.96  0.91 -1.33 ...  0.51 -0.58  1.74]]\n",
            "X_test\n"
          ],
          "name": "stdout"
        },
        {
          "output_type": "execute_result",
          "data": {
            "text/plain": [
              "array([[-1.98, -1.1 ,  0.11, ..., -0.15,  1.73, -0.58],\n",
              "       [ 0.65, -1.1 , -1.42, ...,  0.37,  1.73, -0.58],\n",
              "       [ 0.13,  0.91,  2.41, ..., -1.46, -0.58,  1.74],\n",
              "       ...,\n",
              "       [-1.21,  0.91,  0.21, ..., -1.5 , -0.58, -0.58],\n",
              "       [ 1.1 , -1.1 ,  1.55, ..., -0.11, -0.58,  1.74],\n",
              "       [ 0.98, -1.1 , -0.75, ...,  0.7 , -0.58,  1.74]])"
            ]
          },
          "metadata": {
            "tags": []
          },
          "execution_count": 16
        }
      ]
    },
    {
      "cell_type": "markdown",
      "metadata": {
        "id": "NXucq58OA74w",
        "colab_type": "text"
      },
      "source": [
        "#Building ANN\n",
        "##Here i am creating a sequential model and then adding layers to the model"
      ]
    },
    {
      "cell_type": "markdown",
      "metadata": {
        "id": "IG34P2QzwwW9",
        "colab_type": "text"
      },
      "source": [
        ""
        ""
        ""
        ""
      ]
    },
    {
      "cell_type": "code",
      "metadata": {
        "id": "vSU_etwS1o9Y",
        "colab_type": "code",
        "colab": {}
      },
      "source": [
        "model = Sequential()\n",
        "model.add(Dense(X.shape[1], activation='relu', input_dim = X.shape[1]))\n",
        "model.add(Dense(128, activation='relu'))\n",
        "#model.add(Dense(128,activation='sigmoid'))\n",
        "model.add(Dense(1, activation = 'sigmoid'))"
      ],
      "execution_count": 0,
      "outputs": []
    },
    {
      "cell_type": "markdown",
      "metadata": {
        "id": "waPyiJ1GNJnP",
        "colab_type": "text"
      },
      "source": [
        "##Adam is the the combination of RMSprop and SGD with momentum so i used it.\n",
        "##There are lots of optimizers like SGD,RMSprop,Adagrad,Adadelta,Nadam.\n",
        "##binary_crossentropy is a loss function which is generally used for classification problems,so i used it for my classification problem.\n",
        "\n",
        "##Others loss function are MSE,MAE,Huber,Hinge.\n",
        "##MSE ,MAE and Huber are generally used for regression problems while Hinge is used for classification problems."
      ]
    },
    {
      "cell_type": "code",
      "metadata": {
        "id": "961GrIpZ27ys",
        "colab_type": "code",
        "colab": {}
      },
      "source": [
        "model.compile(optimizer='adam', loss = 'binary_crossentropy', metrics=['accuracy'])\n"
      ],
      "execution_count": 0,
      "outputs": []
    },
    {
      "cell_type": "code",
      "metadata": {
        "id": "ZHvDbr5y2-KK",
        "colab_type": "code",
        "outputId": "c108f8e4-f057-4058-ac41-2cdb745c6be0",
        "colab": {
          "base_uri": "https://localhost:8080/",
          "height": 323
        }
      },
      "source": [
        "model.fit(X_train, y_train.to_numpy(), batch_size = 10, epochs = 8, verbose = 1)\n"
      ],
      "execution_count": 0,
      "outputs": [
        {
          "output_type": "stream",
          "text": [
            "Train on 8000 samples\n",
            "Epoch 1/8\n",
            "8000/8000 [==============================] - 1s 187us/sample - loss: 0.3370 - accuracy: 0.8606\n",
            "Epoch 2/8\n",
            "8000/8000 [==============================] - 1s 184us/sample - loss: 0.3350 - accuracy: 0.8631\n",
            "Epoch 3/8\n",
            "8000/8000 [==============================] - 1s 187us/sample - loss: 0.3330 - accuracy: 0.8634\n",
            "Epoch 4/8\n",
            "8000/8000 [==============================] - 1s 184us/sample - loss: 0.3315 - accuracy: 0.8652\n",
            "Epoch 5/8\n",
            "8000/8000 [==============================] - 2s 188us/sample - loss: 0.3306 - accuracy: 0.8649\n",
            "Epoch 6/8\n",
            "8000/8000 [==============================] - 1s 182us/sample - loss: 0.3280 - accuracy: 0.8654\n",
            "Epoch 7/8\n",
            "8000/8000 [==============================] - 1s 187us/sample - loss: 0.3262 - accuracy: 0.8658\n",
            "Epoch 8/8\n",
            "8000/8000 [==============================] - 1s 183us/sample - loss: 0.3267 - accuracy: 0.8636\n"
          ],
          "name": "stdout"
        },
        {
          "output_type": "execute_result",
          "data": {
            "text/plain": [
              "<tensorflow.python.keras.callbacks.History at 0x7f7c6c96abe0>"
            ]
          },
          "metadata": {
            "tags": []
          },
          "execution_count": 30
        }
      ]
    },
    {
      "cell_type": "markdown",
      "metadata": {
        "id": "z4BgzxHEFSbF",
        "colab_type": "text"
      },
      "source": [
        "#Test set accuracy"
      ]
    },
    {
      "cell_type": "code",
      "metadata": {
        "id": "LKE56WIU3Ap4",
        "colab_type": "code",
        "colab": {}
      },
      "source": [
        "results = model.evaluate(X_test , y_test , batch_size = 10 , verbose = 1 )"
      ],
      "execution_count": 0,
      "outputs": []
    },
    {
      "cell_type": "markdown",
      "metadata": {
        "id": "pEQzBMPRPhh4",
        "colab_type": "text"
      },
      "source": [
        "##86 is the test set accuracy, like if i have 100 data points in my test set then the model correctly classifies  86 out of them."
      ]
    },
    {
      "cell_type": "code",
      "metadata": {
        "id": "1h_jfNNx6Mb_",
        "colab_type": "code",
        "outputId": "834e7aae-ff03-4d9b-bd3d-9f6c027de6fc",
        "colab": {
          "base_uri": "https://localhost:8080/",
          "height": 34
        }
      },
      "source": [
        "acc_1 = results[1]*100\n",
        "print(\"Test set accuracy : {}\".format(acc_1.round(2))) "
      ],
      "execution_count": 0,
      "outputs": [
        {
          "output_type": "stream",
          "text": [
            "Test set accuracy : 86.0\n"
          ],
          "name": "stdout"
        }
      ]
    },
    {
      "cell_type": "markdown",
      "metadata": {
        "id": "QvA-ELl6FjrZ",
        "colab_type": "text"
      },
      "source": [
        "#Test set loss"
      ]
    },
    {
      "cell_type": "markdown",
      "metadata": {
        "id": "83Wrwv24QG0r",
        "colab_type": "text"
      },
      "source": [
        ""
      ]
    },
    {
      "cell_type": "code",
      "metadata": {
        "id": "men4shqA6drn",
        "colab_type": "code",
        "outputId": "897fad0b-2989-406e-eed5-178774ce2822",
        "colab": {
          "base_uri": "https://localhost:8080/",
          "height": 34
        }
      },
      "source": [
        "print(\"Test set loss : {}\".format(results[0]))\n"
      ],
      "execution_count": 0,
      "outputs": [
        {
          "output_type": "stream",
          "text": [
            "Test set loss : 0.3414118045382202\n"
          ],
          "name": "stdout"
        }
      ]
    },
    {
      "cell_type": "markdown",
      "metadata": {
        "id": "znkvEW1BFo2K",
        "colab_type": "text"
      },
      "source": [
        "#predicted values for x test"
      ]
    },
    {
      "cell_type": "code",
      "metadata": {
        "id": "nWuOFp-K6t_C",
        "colab_type": "code",
        "colab": {}
      },
      "source": [
        "y_pred = model.predict_classes(X_test)"
      ],
      "execution_count": 0,
      "outputs": []
    },
    {
      "cell_type": "markdown",
      "metadata": {
        "id": "wyHXy78cxBW_",
        "colab_type": "text"
      },
      "source": [
        "Here 0 indicates that the customer will not leave the bank while 1 represents that the customer will leave the bank."
      ]
    },
    {
      "cell_type": "code",
      "metadata": {
        "id": "bPXcChII7AjN",
        "colab_type": "code",
        "outputId": "6993abe9-e49c-4715-d57c-264c19eb13c4",
        "colab": {
          "base_uri": "https://localhost:8080/",
          "height": 136
        }
      },
      "source": [
        "y_pred"
      ],
      "execution_count": 0,
      "outputs": [
        {
          "output_type": "execute_result",
          "data": {
            "text/plain": [
              "array([[0],\n",
              "       [0],\n",
              "       [0],\n",
              "       ...,\n",
              "       [0],\n",
              "       [1],\n",
              "       [0]], dtype=int32)"
            ]
          },
          "metadata": {
            "tags": []
          },
          "execution_count": 35
        }
      ]
    },
    {
      "cell_type": "markdown",
      "metadata": {
        "id": "bNN4Pep9GD9N",
        "colab_type": "text"
      },
      "source": [
        "#Confusion matrix"
      ]
    },
    {
      "cell_type": "markdown",
      "metadata": {
        "id": "ExyI2cwnxKfM",
        "colab_type": "text"
      },
      "source": [
        "##Here the 1530 represents the true positive while the 190 represents the true negatives.True positive basically means that the customers will leave the bank and they are correctly classified by the algorithm.\n",
        "##While true negative means that the customer will not leave the bank and was correctly classified by the model.\n",
        "##Basically true positive and true negative provide us the accuracy."
      ]
    },
    {
      "cell_type": "code",
      "metadata": {
        "id": "PJJIw6167Tlm",
        "colab_type": "code",
        "outputId": "b09fd1e1-bc84-405c-846d-9b2cbed3bbca",
        "colab": {
          "base_uri": "https://localhost:8080/",
          "height": 51
        }
      },
      "source": [
        "from sklearn.metrics import confusion_matrix, accuracy_score\n",
        "ck=confusion_matrix(y_test, y_pred)\n",
        "ck"
      ],
      "execution_count": 0,
      "outputs": [
        {
          "output_type": "execute_result",
          "data": {
            "text/plain": [
              "array([[1530,   63],\n",
              "       [ 217,  190]])"
            ]
          },
          "metadata": {
            "tags": []
          },
          "execution_count": 46
        }
      ]
    },
    {
      "cell_type": "markdown",
      "metadata": {
        "id": "Kb21jOKXf6TV",
        "colab_type": "text"
      },
      "source": [
        "#Plotting the confusion matrix"
      ]
    },
    {
      "cell_type": "code",
      "metadata": {
        "id": "iw4dkHjEeKHc",
        "colab_type": "code",
        "outputId": "abf9a02d-d552-41b4-c6f3-85ac28536956",
        "colab": {
          "base_uri": "https://localhost:8080/",
          "height": 279
        }
      },
      "source": [
        "from mlxtend.plotting import plot_confusion_matrix\n",
        "import matplotlib.pyplot as plt\n",
        "import numpy as np\n",
        "\n",
        "fig, ax = plot_confusion_matrix(conf_mat=ck)\n",
        "plt.show()"
      ],
      "execution_count": 0,
      "outputs": [
        {
          "output_type": "display_data",
          "data": {
            "image/png": "iVBORw0KGgoAAAANSUhEUgAAAQMAAAEGCAYAAABhHPB4AAAABHNCSVQICAgIfAhkiAAAAAlwSFlz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\npMwYSALg/wH5zr4fR8+N/QAAAABJRU5ErkJggg==\n",
            "text/plain": [
              "<Figure size 432x288 with 1 Axes>"
            ]
          },
          "metadata": {
            "tags": []
          }
        }
      ]
    },
    {
      "cell_type": "markdown",
      "metadata": {
        "id": "CK_c-PMMHVCS",
        "colab_type": "text"
      },
      "source": [
        "#Accuracy score of the model.\n",
        ""
        "##which is 0.86\n",
        "##It is calculated by adding the no. of true positives and no. of true negative divided by the total no. of predictions."
      ]
    },
    {
      "cell_type": "code",
      "metadata": {
        "id": "b75jIsbIGL6-",
        "colab_type": "code",
        "outputId": "792ea184-8ae1-472e-e444-5f722c651810",
        "colab": {
          "base_uri": "https://localhost:8080/",
          "height": 34
        }
      },
      "source": [
        "accuracy_score(y_test, y_pred)\n"
      ],
      "execution_count": 0,
      "outputs": [
        {
          "output_type": "execute_result",
          "data": {
            "text/plain": [
              "0.86"
            ]
          },
          "metadata": {
            "tags": []
          },
          "execution_count": 37
        }
      ]
    },
    {
      "cell_type": "markdown",
      "metadata": {
        "id": "k7PBsaNBxjFw",
        "colab_type": "text"
      },
      "source": [
        ""
      ]
    },
    {
      "cell_type": "code",
      "metadata": {
        "id": "mlEt2TtSI0th",
        "colab_type": "code",
        "outputId": "1e11fe4d-e496-4904-e82d-b27ed388b0ac",
        "colab": {
          "base_uri": "https://localhost:8080/",
          "height": 224
        }
      },
      "source": [
        "X.head()"
      ],
      "execution_count": 0,
      "outputs": [
        {
          "output_type": "execute_result",
          "data": {
            "text/html": [
              "<div>\n",
              "<style scoped>\n",
              "    .dataframe tbody tr th:only-of-type {\n",
              "        vertical-align: middle;\n",
              "    }\n",
              "\n",
              "    .dataframe tbody tr th {\n",
              "        vertical-align: top;\n",
              "    }\n",
              "\n",
              "    .dataframe thead th {\n",
              "        text-align: right;\n",
              "    }\n",
              "</style>\n",
              "<table border=\"1\" class=\"dataframe\">\n",
              "  <thead>\n",
              "    <tr style=\"text-align: right;\">\n",
              "      <th></th>\n",
              "      <th>CreditScore</th>\n",
              "      <th>Gender</th>\n",
              "      <th>Age</th>\n",
              "      <th>Tenure</th>\n",
              "      <th>Balance</th>\n",
              "      <th>NumOfProducts</th>\n",
              "      <th>HasCrCard</th>\n",
              "      <th>IsActiveMember</th>\n",
              "      <th>EstimatedSalary</th>\n",
              "      <th>Geography_1</th>\n",
              "      <th>Geography_2</th>\n",
              "    </tr>\n",
              "  </thead>\n",
              "  <tbody>\n",
              "    <tr>\n",
              "      <th>0</th>\n",
              "      <td>619</td>\n",
              "      <td>0</td>\n",
              "      <td>42</td>\n",
              "      <td>2</td>\n",
              "      <td>0.00</td>\n",
              "      <td>1</td>\n",
              "      <td>1</td>\n",
              "      <td>1</td>\n",
              "      <td>101348.88</td>\n",
              "      <td>0</td>\n",
              "      <td>0</td>\n",
              "    </tr>\n",
              "    <tr>\n",
              "      <th>1</th>\n",
              "      <td>608</td>\n",
              "      <td>0</td>\n",
              "      <td>41</td>\n",
              "      <td>1</td>\n",
              "      <td>83807.86</td>\n",
              "      <td>1</td>\n",
              "      <td>0</td>\n",
              "      <td>1</td>\n",
              "      <td>112542.58</td>\n",
              "      <td>0</td>\n",
              "      <td>1</td>\n",
              "    </tr>\n",
              "    <tr>\n",
              "      <th>2</th>\n",
              "      <td>502</td>\n",
              "      <td>0</td>\n",
              "      <td>42</td>\n",
              "      <td>8</td>\n",
              "      <td>159660.80</td>\n",
              "      <td>3</td>\n",
              "      <td>1</td>\n",
              "      <td>0</td>\n",
              "      <td>113931.57</td>\n",
              "      <td>0</td>\n",
              "      <td>0</td>\n",
              "    </tr>\n",
              "    <tr>\n",
              "      <th>3</th>\n",
              "      <td>699</td>\n",
              "      <td>0</td>\n",
              "      <td>39</td>\n",
              "      <td>1</td>\n",
              "      <td>0.00</td>\n",
              "      <td>2</td>\n",
              "      <td>0</td>\n",
              "      <td>0</td>\n",
              "      <td>93826.63</td>\n",
              "      <td>0</td>\n",
              "      <td>0</td>\n",
              "    </tr>\n",
              "    <tr>\n",
              "      <th>4</th>\n",
              "      <td>850</td>\n",
              "      <td>0</td>\n",
              "      <td>43</td>\n",
              "      <td>2</td>\n",
              "      <td>125510.82</td>\n",
              "      <td>1</td>\n",
              "      <td>1</td>\n",
              "      <td>1</td>\n",
              "      <td>79084.10</td>\n",
              "      <td>0</td>\n",
              "      <td>1</td>\n",
              "    </tr>\n",
              "  </tbody>\n",
              "</table>\n",
              "</div>"
            ],
            "text/plain": [
              "   CreditScore  Gender  Age  ...  EstimatedSalary  Geography_1  Geography_2\n",
              "0          619       0   42  ...        101348.88            0            0\n",
              "1          608       0   41  ...        112542.58            0            1\n",
              "2          502       0   42  ...        113931.57            0            0\n",
              "3          699       0   39  ...         93826.63            0            0\n",
              "4          850       0   43  ...         79084.10            0            1\n",
              "\n",
              "[5 rows x 11 columns]"
            ]
          },
          "metadata": {
            "tags": []
          },
          "execution_count": 38
        }
      ]
    },
    {
      "cell_type": "markdown",
      "metadata": {
        "id": "x3CkfieKRud9",
        "colab_type": "text"
      },
      "source": [
        "#predicting on some unseen data"
      ]
    },
    {
      "cell_type": "code",
      "metadata": {
        "id": "Dc74uEkSHhuG",
        "colab_type": "code",
        "colab": {}
      },
      "source": [
        "c=model.predict([[615,1,22,5,20000,5,1,1,60000,0,0]])"
      ],
      "execution_count": 0,
      "outputs": []
    },
    {
      "cell_type": "markdown",
      "metadata": {
        "id": "cil-LhV-xp3x",
        "colab_type": "text"
      },
      "source": [
        "##This output indicate that a person which has 615 as credit score,gender as male ,age as 22,tenure as 5 ,balance in the account is 20000,no.of products is 1,has card,is a active member and has salary of 60000 with geography as spain will leave the bank in future."
      ]
    },
    {
      "cell_type": "code",
      "metadata": {
        "id": "NWEjjNuJJQhA",
        "colab_type": "code",
        "outputId": "a1f784de-334a-4a4b-95bf-3fb9ede2fe99",
        "colab": {
          "base_uri": "https://localhost:8080/",
          "height": 34
        }
      },
      "source": [
        "c[0][0]"
      ],
      "execution_count": 0,
      "outputs": [
        {
          "output_type": "execute_result",
          "data": {
            "text/plain": [
              "1.0"
            ]
          },
          "metadata": {
            "tags": []
          },
          "execution_count": 40
        }
      ]
    },
    {
      "cell_type": "code",
      "metadata": {
        "id": "JjGfnCECJRvP",
        "colab_type": "code",
        "colab": {}
      },
      "source": [
        " "
      ],
      "execution_count": 0,
      "outputs": []
    }
  ]
}
